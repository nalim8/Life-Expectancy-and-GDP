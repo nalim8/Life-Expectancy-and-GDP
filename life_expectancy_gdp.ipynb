{
 "cells": [
  {
   "cell_type": "markdown",
   "metadata": {},
   "source": [
    "# Introduction\n",
    "\n",
    "In this project data on life expectancy and Gross Domestic Product (GDP) of six countries from the World Health Organization and the World Bank will be analyzed. The relationship between GDP and life expectancy will be identified.\n",
    "\n",
    "The goal of this project is to analize data of different countries and identify the relationship between GDP and life expectancy.\n",
    "\n",
    "This project will scope, analyze, prepare, plot data, and seek to explain the findings from the analysis.\n",
    "\n",
    "Here are a few questions that this project has sought to answer:\n",
    "\n",
    " - How did life expectancy develop over time in the six nations?\n",
    " - How did the GDP develop over time in the six nations?\n",
    " - Is there a correlation between GDP and life expectancy of a country?\n",
    " - What is the average life expectancy and GDP in these nations?\n",
    " \n",
    "**Data sources:**\n",
    "\n",
    "The data in `all_data.csv` was provided by [Codecademy.com](https://www.codecademy.com)."
   ]
  },
  {
   "cell_type": "markdown",
   "metadata": {},
   "source": [
    "# Scoping\n",
    "\n",
    "Four sections were created below to help guide the project's process and progress. The first section is the project goals, this section will define the high-level objectives and set the intentions for this project. The next section is the data, which is already provided. Thirdly, the analysis includes the methods and questions that are aligned with the project goals. Lastly, evaluation will build conclusions and findings from the analysis.\n",
    "\n",
    "\n",
    "## Project Goals\n",
    "\n",
    "In this project\n",
    "\n",
    " - How did life expectancy develop over time in the six nations?\n",
    " - How did the GDP develop over time in the six nations?\n",
    " - Is there a correlation between GDP and life expectancy of a country?\n",
    " - What is the average life expectancy and GDP in these nations?\n",
    " \n",
    "## Data\n",
    "\n",
    "This project has one dataset in the file `all_data.csv` which has information about the life expectancy and GDP of six countries across 15 years. The data stems from the World Health Organization and World Bank. This data will be prepared and used to analyze the goals of the project.\n",
    "\n",
    "## Analysis\n",
    "\n",
    "In this section, descriptive statistics and data visualization techniques will be employed to understand the data better. Statistical inference will also be used to test if there is a correlation between GDP and life expectancy. Some of the key metrics that will be computed include: \n",
    "\n",
    "1. Distributions\n",
    "1. counts\n",
    "1. relationship between species\n",
    "1. conservation status of species\n",
    "1. observations of species in parks. \n",
    "\n",
    "\n",
    "## Evaluation\n",
    "\n",
    "This section revisits the goals and checks if the output of the analysis corresponds to the questions first set to be answered. This section will also reflect on what has been learned through the process, and if any of the questions were unable to be answered. This also includes limitations or if any of the analysis could have been done using different methodologies.\n"
   ]
  },
  {
   "cell_type": "markdown",
   "metadata": {},
   "source": [
    "# Analysis"
   ]
  },
  {
   "cell_type": "code",
   "execution_count": 1,
   "metadata": {},
   "outputs": [],
   "source": [
    "import numpy as np\n",
    "import pandas as pd\n",
    "from matplotlib import pyplot as plt\n",
    "import seaborn as sns\n",
    "import warnings\n",
    "warnings.simplefilter(action='ignore', category=FutureWarning)"
   ]
  },
  {
   "cell_type": "code",
   "execution_count": 2,
   "metadata": {},
   "outputs": [
    {
     "data": {
      "text/html": [
       "<div>\n",
       "<style scoped>\n",
       "    .dataframe tbody tr th:only-of-type {\n",
       "        vertical-align: middle;\n",
       "    }\n",
       "\n",
       "    .dataframe tbody tr th {\n",
       "        vertical-align: top;\n",
       "    }\n",
       "\n",
       "    .dataframe thead th {\n",
       "        text-align: right;\n",
       "    }\n",
       "</style>\n",
       "<table border=\"1\" class=\"dataframe\">\n",
       "  <thead>\n",
       "    <tr style=\"text-align: right;\">\n",
       "      <th></th>\n",
       "      <th>Country</th>\n",
       "      <th>Year</th>\n",
       "      <th>Life expectancy</th>\n",
       "      <th>GDP</th>\n",
       "    </tr>\n",
       "  </thead>\n",
       "  <tbody>\n",
       "    <tr>\n",
       "      <th>0</th>\n",
       "      <td>Chile</td>\n",
       "      <td>2000</td>\n",
       "      <td>77.3</td>\n",
       "      <td>7.786093e+10</td>\n",
       "    </tr>\n",
       "    <tr>\n",
       "      <th>1</th>\n",
       "      <td>Chile</td>\n",
       "      <td>2001</td>\n",
       "      <td>77.3</td>\n",
       "      <td>7.097992e+10</td>\n",
       "    </tr>\n",
       "    <tr>\n",
       "      <th>2</th>\n",
       "      <td>Chile</td>\n",
       "      <td>2002</td>\n",
       "      <td>77.8</td>\n",
       "      <td>6.973681e+10</td>\n",
       "    </tr>\n",
       "    <tr>\n",
       "      <th>3</th>\n",
       "      <td>Chile</td>\n",
       "      <td>2003</td>\n",
       "      <td>77.9</td>\n",
       "      <td>7.564346e+10</td>\n",
       "    </tr>\n",
       "    <tr>\n",
       "      <th>4</th>\n",
       "      <td>Chile</td>\n",
       "      <td>2004</td>\n",
       "      <td>78.0</td>\n",
       "      <td>9.921039e+10</td>\n",
       "    </tr>\n",
       "  </tbody>\n",
       "</table>\n",
       "</div>"
      ],
      "text/plain": [
       "  Country  Year  Life expectancy           GDP\n",
       "0   Chile  2000             77.3  7.786093e+10\n",
       "1   Chile  2001             77.3  7.097992e+10\n",
       "2   Chile  2002             77.8  6.973681e+10\n",
       "3   Chile  2003             77.9  7.564346e+10\n",
       "4   Chile  2004             78.0  9.921039e+10"
      ]
     },
     "execution_count": 2,
     "metadata": {},
     "output_type": "execute_result"
    }
   ],
   "source": [
    "# read in data\n",
    "df = pd.read_csv('all_data.csv')\n",
    "df.rename(columns = {'Life expectancy at birth (years)':'Life expectancy'}, \n",
    "          inplace = True)\n",
    "df.head()"
   ]
  },
  {
   "cell_type": "code",
   "execution_count": 3,
   "metadata": {
    "scrolled": true
   },
   "outputs": [],
   "source": [
    "df = df.replace('United States of America', 'USA')"
   ]
  },
  {
   "cell_type": "code",
   "execution_count": 4,
   "metadata": {},
   "outputs": [],
   "source": [
    "# convert unit of GDP\n",
    "df.GDP /= 10**8"
   ]
  },
  {
   "cell_type": "markdown",
   "metadata": {},
   "source": [
    "## Development of Life Expectancy"
   ]
  },
  {
   "cell_type": "code",
   "execution_count": 5,
   "metadata": {},
   "outputs": [],
   "source": [
    "# preparing the data to plot\n",
    "country_names = list(df['Country'].unique())\n",
    "\n",
    "life_exps = []\n",
    "gdps = []\n",
    "for name in country_names:\n",
    "    life_exps.append(df[df.Country==name]['Life expectancy'])\n",
    "    gdps.append(df[df.Country==name]['GDP'])\n",
    "    \n",
    "years = df[df.Country=='Chile'].Year    "
   ]
  },
  {
   "cell_type": "code",
   "execution_count": 6,
   "metadata": {},
   "outputs": [
    {
     "data": {
      "image/png": "[encoded data removed]",
      "text/plain": [
       "<Figure size 504x360 with 1 Axes>"
      ]
     },
     "metadata": {
      "needs_background": "light"
     },
     "output_type": "display_data"
    }
   ],
   "source": [
    "# plot life expectancy\n",
    "plt.figure(figsize=(7,5))\n",
    "for le, name in zip(life_exps, country_names):\n",
    "    plt.plot(years, le, label=name)\n",
    "plt.grid(True)\n",
    "plt.xlabel('year')\n",
    "plt.ylabel('life expectancy / a')\n",
    "plt.legend();    "
   ]
  },
  {
   "cell_type": "markdown",
   "metadata": {},
   "source": [
    "Tendentially, life expectancy in all countries rises over the years. Zimbabwe has the highest increase of life expectancy. In Zimbabwe life expectancy increased from 46 years to 62 years (increase of 16 years) within 15 years."
   ]
  },
  {
   "cell_type": "markdown",
   "metadata": {},
   "source": [
    "## Development of GDP"
   ]
  },
  {
   "cell_type": "code",
   "execution_count": 7,
   "metadata": {},
   "outputs": [
    {
     "ename": "NameError",
     "evalue": "name 'gdp_country_zip' is not defined",
     "output_type": "error",
     "traceback": [
      "\u001b[1;31m---------------------------------------------------------------------------\u001b[0m",
      "\u001b[1;31mNameError\u001b[0m                                 Traceback (most recent call last)",
      "\u001b[1;32m<ipython-input-7-ba4cc9d951cd>\u001b[0m in \u001b[0;36m<module>\u001b[1;34m\u001b[0m\n\u001b[0;32m      1\u001b[0m \u001b[1;31m# plot GDP\u001b[0m\u001b[1;33m\u001b[0m\u001b[1;33m\u001b[0m\u001b[1;33m\u001b[0m\u001b[0m\n\u001b[0;32m      2\u001b[0m \u001b[0mplt\u001b[0m\u001b[1;33m.\u001b[0m\u001b[0mfigure\u001b[0m\u001b[1;33m(\u001b[0m\u001b[0mfigsize\u001b[0m\u001b[1;33m=\u001b[0m\u001b[1;33m(\u001b[0m\u001b[1;36m7\u001b[0m\u001b[1;33m,\u001b[0m\u001b[1;36m5\u001b[0m\u001b[1;33m)\u001b[0m\u001b[1;33m)\u001b[0m\u001b[1;33m\u001b[0m\u001b[1;33m\u001b[0m\u001b[0m\n\u001b[1;32m----> 3\u001b[1;33m \u001b[1;32mfor\u001b[0m \u001b[0mcountry\u001b[0m \u001b[1;32min\u001b[0m \u001b[0mgdp_country_zip\u001b[0m\u001b[1;33m:\u001b[0m\u001b[1;33m\u001b[0m\u001b[1;33m\u001b[0m\u001b[0m\n\u001b[0m\u001b[0;32m      4\u001b[0m     \u001b[0mplt\u001b[0m\u001b[1;33m.\u001b[0m\u001b[0mplot\u001b[0m\u001b[1;33m(\u001b[0m\u001b[0myears\u001b[0m\u001b[1;33m,\u001b[0m \u001b[0mcountry\u001b[0m\u001b[1;33m[\u001b[0m\u001b[1;36m0\u001b[0m\u001b[1;33m]\u001b[0m\u001b[1;33m,\u001b[0m \u001b[0mlabel\u001b[0m\u001b[1;33m=\u001b[0m\u001b[0mcountry\u001b[0m\u001b[1;33m[\u001b[0m\u001b[1;36m1\u001b[0m\u001b[1;33m]\u001b[0m\u001b[1;33m)\u001b[0m\u001b[1;33m\u001b[0m\u001b[1;33m\u001b[0m\u001b[0m\n\u001b[0;32m      5\u001b[0m \u001b[0mplt\u001b[0m\u001b[1;33m.\u001b[0m\u001b[0mgrid\u001b[0m\u001b[1;33m(\u001b[0m\u001b[1;32mTrue\u001b[0m\u001b[1;33m)\u001b[0m\u001b[1;33m\u001b[0m\u001b[1;33m\u001b[0m\u001b[0m\n",
      "\u001b[1;31mNameError\u001b[0m: name 'gdp_country_zip' is not defined"
     ]
    },
    {
     "data": {
      "text/plain": [
       "<Figure size 504x360 with 0 Axes>"
      ]
     },
     "metadata": {},
     "output_type": "display_data"
    }
   ],
   "source": [
    "# plot GDP\n",
    "plt.figure(figsize=(7,5))\n",
    "for country in gdp_country_zip:\n",
    "    plt.plot(years, country[0], label=country[1])\n",
    "plt.grid(True)\n",
    "plt.yscale('log')\n",
    "plt.xlabel('year')\n",
    "plt.ylabel('GDP / billion $')\n",
    "plt.legend(); "
   ]
  },
  {
   "cell_type": "markdown",
   "metadata": {},
   "source": [
    "In all countries the GDP increased over the years. China had the highest increase of GDP with 9.9 billion $ within 15 years."
   ]
  },
  {
   "cell_type": "markdown",
   "metadata": {},
   "source": [
    "## Correlation GDP and Life Expectancy"
   ]
  },
  {
   "cell_type": "code",
   "execution_count": null,
   "metadata": {},
   "outputs": [],
   "source": [
    "# scatter plots of correlations\n",
    "fig, ax = plt.subplots(nrows=2, ncols=3, figsize=(12,6))\n",
    "plt.tight_layout()\n",
    "\n",
    "s1 = ax[0,0].scatter(df[df.Country=='Chile']['GDP'], \n",
    "                     df[df.Country=='Chile']['Life expectancy'])\n",
    "s2 = ax[0,1].scatter(df[df.Country=='China']['GDP'], \n",
    "                     df[df.Country=='China']['Life expectancy'], color='orange')\n",
    "s3 = ax[0,2].scatter(df[df.Country=='Germany']['GDP'], \n",
    "                     df[df.Country=='Germany']['Life expectancy'], color='green')\n",
    "s4 = ax[1,0].scatter(df[df.Country=='Mexico']['GDP'], \n",
    "                     df[df.Country=='Mexico']['Life expectancy'], color='red')\n",
    "s5 = ax[1,1].scatter(df[df.Country=='USA']['GDP'], \n",
    "                     df[df.Country=='USA']['Life expectancy'], color='violet')\n",
    "s6 = ax[1,2].scatter(df[df.Country=='Zimbabwe']['GDP'], \n",
    "                     df[df.Country=='Zimbabwe']['Life expectancy'], color='brown')\n",
    "plt.setp(ax[:], xlabel='GDP / billion $')\n",
    "plt.setp(ax[:], ylabel='life expectancy / a')\n",
    "fig.legend(handles=[s1, s2, s3, s4, s5, s6], \n",
    "           labels=country_names, loc=\"center right\", \n",
    "           title='Country')\n",
    "plt.subplots_adjust(right=0.87, wspace=0.25, hspace=0.2);"
   ]
  },
  {
   "cell_type": "code",
   "execution_count": null,
   "metadata": {},
   "outputs": [],
   "source": [
    "# calculate and print the Pearson coefficient\n",
    "from scipy.stats import pearsonr\n",
    "\n",
    "corrs = []\n",
    "for (le, gdp) in zip(life_exps, gdps):\n",
    "    corrs.append(pearsonr(le, gdp)[0])\n",
    "    \n",
    "for (corr, name) in zip(corrs, country_names):\n",
    "    print('Pearson correlation {}: {}'.format(name, corr))    "
   ]
  },
  {
   "cell_type": "markdown",
   "metadata": {},
   "source": [
    "Most graphs show a positive linear correlation between life expectancy and GDP. Life expectancy increases with rising GDP. USA has the highest correlation with a Pearson correlation coefficient of 0.982. The graph for China shows a positiv but nonlinear correlation and has the lowest Pearson correlation of 0.909. Other factors than just the ecomomic strength must play a role here. Although, there is a correlation between life expectancy and GDP, it does not mean, that there is a causal relation between the them."
   ]
  },
  {
   "cell_type": "markdown",
   "metadata": {},
   "source": [
    "## Average Life Expectancy and average GDP"
   ]
  },
  {
   "cell_type": "code",
   "execution_count": null,
   "metadata": {},
   "outputs": [],
   "source": [
    "# plot average life expectancy\n",
    "plt.figure(figsize=(7,5))\n",
    "sns.barplot(data=df, x='Country', y='Life expectancy', zorder=2)\n",
    "plt.grid(True, axis='y', zorder=1)"
   ]
  },
  {
   "cell_type": "markdown",
   "metadata": {},
   "source": [
    "The graph above shows the average life expectancy in the six countries over 15 years. Chile, Germany and USA have a similar average life expectancy of 78.9, 79.7 and 78.1 years, respectively. In China and Mexico the life expectancy is 74.3 and 75.7 years, respectively. Zimbabwe has the lowest life expectancy of 50.1 years."
   ]
  },
  {
   "cell_type": "code",
   "execution_count": null,
   "metadata": {},
   "outputs": [],
   "source": [
    "df.groupby('Country')['Life expectancy'].mean().reset_index()"
   ]
  },
  {
   "cell_type": "code",
   "execution_count": null,
   "metadata": {
    "scrolled": false
   },
   "outputs": [],
   "source": [
    "# plot average GDP\n",
    "plt.figure(figsize=(8, 8))\n",
    "sns.barplot(data=df, x='Country', y='GDP', zorder=2)\n",
    "plt.grid(True, axis='y', zorder=1)"
   ]
  },
  {
   "cell_type": "markdown",
   "metadata": {},
   "source": [
    "The graph shows the average GDP in the six coutries over 15 years. USA has by far the highest GDP of 140,750 billion Dollar, followed by China, Germany, Mexico and Chile with a GDP of 49,577, 30,947, 9,767 and 1,698 billion Dollar, respectively. Zimbabwe has the smallest GDP of 91 billion Dollar."
   ]
  },
  {
   "cell_type": "code",
   "execution_count": null,
   "metadata": {},
   "outputs": [],
   "source": [
    "df.groupby('Country').GDP.mean().reset_index()"
   ]
  },
  {
   "cell_type": "markdown",
   "metadata": {},
   "source": [
    "# Conclusion\n",
    "\n",
    "The project was able to make several data visualizations and inferences about the various species in four of the National Parks that comprised this data set.\n",
    "\n",
    "This project was also able to answer some of the questions first posed in the beginning:\n",
    "\n",
    "- How did life expectancy develop over time in the six nations?\n",
    "    - In all countries life expectancy increased within the examined time span. In Zimbabwe life expectancy increased the most.\n",
    "- How did the GDP develop over time in the six nations?\n",
    "    - In all Nation the GDP increased. The highest rise was in China.\n",
    "- Is there a correlation between GDP and life expectancy of a country?\n",
    "    - There is a positive linear correlation between GDP and life expectancy for all countries.\n",
    "- What is the average life expectancy and GDP in these nations?\n",
    "    - Germany has the highest average life expectancy of 79.7 years. Zimbabwe has the lowest life expectancy of 50.1 years.\n",
    "    - USA has by far the highest GDP of around 141000 billion Dollar. Zimbabwe has the smallest GDP of 91 billion Dollar."
   ]
  }
 ],
 "metadata": {
  "kernelspec": {
   "display_name": "Python 3",
   "language": "python",
   "name": "python3"
  },
  "toc": {
   "base_numbering": 1,
   "nav_menu": {},
   "number_sections": true,
   "sideBar": true,
   "skip_h1_title": false,
   "title_cell": "Table of Contents",
   "title_sidebar": "Contents",
   "toc_cell": false,
   "toc_position": {},
   "toc_section_display": true,
   "toc_window_display": false
  }
 },
 "nbformat": 4,
 "nbformat_minor": 4
}
